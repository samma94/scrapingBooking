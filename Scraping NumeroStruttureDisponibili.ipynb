{
 "cells": [
  {
   "cell_type": "code",
   "execution_count": 1,
   "metadata": {},
   "outputs": [],
   "source": [
    "import os\n",
    "import datetime\n",
    "from datetime import timedelta\n",
    "import csv\n",
    "import json\n",
    "import time\n",
    "import re\n",
    "import string\n",
    "import requests\n",
    "from urllib.parse import urlencode\n",
    "import selenium\n",
    "from selenium.webdriver import Firefox\n",
    "from selenium.webdriver.common.keys import Keys\n",
    "from selenium.webdriver.common.by  import   By \n",
    "from selenium.webdriver.firefox.options  import   Options \n",
    "from selenium.webdriver.support import   expected_conditions  as   EC \n",
    "from selenium.webdriver.support.wait  import   WebDriverWait "
   ]
  },
  {
   "cell_type": "code",
   "execution_count": 2,
   "metadata": {},
   "outputs": [],
   "source": [
    "\"\"\"cities=[\"L\\'Aquila\",'Teramo','Pescara','Chieti','Potenza','Matera','Cosenza','Catanzaro','Cosenza','Crotone','Vibo Valentia',\n",
    "        'Reggio Calabria','Caserta','Benevento','Avellino','Salerno','Napoli','Piacenza','Parma','Reggio Emilia','Modena',\n",
    "        'Ferrara','Ravenna','Rimini','Forli-Cesena Area','Bologna','Udine','Gorizia','Trieste','Pordenone','Viterbo','Rieti',\n",
    "        'Latina','Frosinone','Roma','Imperia','Savona','La Spezia','Genova','Varese','Como','Sondrio','Bergamo','Brescia','Pavia',\n",
    "        'Cremona','Mantova','Lecco','Lodi','Milano','Pesaro e Urbino','Ancona','Macerata','Ascoli Piceno',\n",
    "        'Fermo','Campobasso','Isernia','Vercelli','Novara','Cuneo','Asti','Alessandria','Biella','Verbano-Cusio-Ossola','Torino',\n",
    "        'Foggia','Taranto','Brindisi','Lecce','Barletta-Andria-Trani','Bari','Sassari','Nuoro','Oristano','Sardegna del Sud','Cagliari',\n",
    "        'Trapani','Agrigento','Caltanissetta','Enna','Ragusa','Siracusa','Palermo','Messina','Catania','Lucca',\n",
    "        'Pistoia','Livorno','Pisa','Arezzo','Siena','Grosseto','Prato','Firenze', 'Massa Carrara Area',\n",
    "        'Bolzano','Trento','Perugia','Terni','Aosta','Verona','Vicenza','Belluno','Treviso','Padova',\n",
    "        'Rovigo','Venezia'\n",
    "       ]\"\"\"\n",
    "cities=[\"Lucca\"]"
   ]
  },
  {
   "cell_type": "code",
   "execution_count": 24,
   "metadata": {},
   "outputs": [
    {
     "name": "stdout",
     "output_type": "stream",
     "text": [
      "733\n"
     ]
    },
    {
     "ename": "KeyError",
     "evalue": "0",
     "output_type": "error",
     "traceback": [
      "\u001b[1;31m---------------------------------------------------------------------------\u001b[0m",
      "\u001b[1;31mKeyError\u001b[0m                                  Traceback (most recent call last)",
      "\u001b[1;32m<ipython-input-24-c9cc3d82a84b>\u001b[0m in \u001b[0;36m<module>\u001b[1;34m\u001b[0m\n\u001b[0;32m     46\u001b[0m             \u001b[0mnumstruttureTrovate\u001b[0m\u001b[1;33m=\u001b[0m\u001b[1;33m(\u001b[0m\u001b[0mre\u001b[0m\u001b[1;33m.\u001b[0m\u001b[0mfindall\u001b[0m\u001b[1;33m(\u001b[0m\u001b[1;34m'[\\d]+'\u001b[0m\u001b[1;33m,\u001b[0m\u001b[0mxpathStruttura\u001b[0m\u001b[1;33m)\u001b[0m\u001b[1;33m[\u001b[0m\u001b[1;36m0\u001b[0m\u001b[1;33m]\u001b[0m\u001b[1;33m)\u001b[0m \u001b[1;31m#prende il primo numero in lista relativo alle strutture\u001b[0m\u001b[1;33m\u001b[0m\u001b[1;33m\u001b[0m\u001b[0m\n\u001b[0;32m     47\u001b[0m             \u001b[0minfoCitta\u001b[0m \u001b[1;33m=\u001b[0m \u001b[0mscrape_dati_alloggi\u001b[0m\u001b[1;33m(\u001b[0m\u001b[0mdriver\u001b[0m\u001b[1;33m)\u001b[0m\u001b[1;33m\u001b[0m\u001b[1;33m\u001b[0m\u001b[0m\n\u001b[1;32m---> 48\u001b[1;33m             \u001b[0mkeys\u001b[0m \u001b[1;33m=\u001b[0m \u001b[0minfoAlloggio\u001b[0m\u001b[1;33m[\u001b[0m\u001b[1;36m0\u001b[0m\u001b[1;33m]\u001b[0m\u001b[1;33m.\u001b[0m\u001b[0mkeys\u001b[0m\u001b[1;33m(\u001b[0m\u001b[1;33m)\u001b[0m\u001b[1;33m\u001b[0m\u001b[1;33m\u001b[0m\u001b[0m\n\u001b[0m\u001b[0;32m     49\u001b[0m             \u001b[1;32mwith\u001b[0m \u001b[0mopen\u001b[0m\u001b[1;33m(\u001b[0m\u001b[1;34m'numeroStruttureDisponibili.csv'\u001b[0m\u001b[1;33m,\u001b[0m \u001b[1;34m'a'\u001b[0m\u001b[1;33m,\u001b[0m \u001b[0mnewline\u001b[0m\u001b[1;33m=\u001b[0m\u001b[1;34m''\u001b[0m\u001b[1;33m)\u001b[0m \u001b[1;32mas\u001b[0m \u001b[0mcsvFile\u001b[0m\u001b[1;33m:\u001b[0m \u001b[1;31m#appende ai dati precedenti\u001b[0m\u001b[1;33m\u001b[0m\u001b[1;33m\u001b[0m\u001b[0m\n\u001b[0;32m     50\u001b[0m                 \u001b[0mdict_writer\u001b[0m \u001b[1;33m=\u001b[0m \u001b[0mcsv\u001b[0m\u001b[1;33m.\u001b[0m\u001b[0mDictWriter\u001b[0m\u001b[1;33m(\u001b[0m\u001b[0mcsvFile\u001b[0m\u001b[1;33m,\u001b[0m \u001b[1;36m1\u001b[0m\u001b[1;33m)\u001b[0m \u001b[1;31m# imposto i nomi dei campi\u001b[0m\u001b[1;33m\u001b[0m\u001b[1;33m\u001b[0m\u001b[0m\n",
      "\u001b[1;31mKeyError\u001b[0m: 0"
     ]
    }
   ],
   "source": [
    "date = datetime.date.today() #giorno attuale\n",
    "dataOdierna=date.strftime(\"%d/%m/%Y\")\n",
    "timeShort=3 #variabile attesa esplicita caricamento pagina\n",
    "\n",
    "def preparaDriver(link):\n",
    "    options = Options()\n",
    "    options.headless = True  #modalita senza interfaccia grafica con false\n",
    "    options.add_argument('--lang=it') #imposto la lingua del browser in italiano\n",
    "    driver = Firefox(options=options) #invoco il webdriver di firefox geckodriver in path\n",
    "    driver.get(link)\n",
    "    wait = WebDriverWait(driver, timeout=10).until( #attesa esplicita\n",
    "        EC.presence_of_all_elements_located(\n",
    "            (By.CLASS_NAME, 'sr-hotel__title')))\n",
    "    return driver\n",
    "\n",
    "infoCitta = {} #dizionario dove salvare le informazioni dell'hotel\n",
    "\n",
    "def scrape_dati_alloggi(driver):  #visita le singole pagine degli hotel \n",
    "    infoCitta['data odierna']=dataOdierna\n",
    "    infoCitta['citta']=stringaCitta  #nome della città\n",
    "    infoCitta['disponibilita odierna']=numstruttureTrovate\n",
    "    print (numstruttureTrovate)\n",
    "    return infoCitta\n",
    "\n",
    "if __name__ == '__main__':\n",
    "\n",
    "    try:\n",
    "        for city in cities:\n",
    "            parametri = { # parametri vuoti per prendere le strutture totali disponibili indipendentemente dal giorno\n",
    "            'checkin_month': '',\n",
    "            'checkin_monthday': '',\n",
    "            'checkin_year':'',\n",
    "            'checkout_month': '',\n",
    "            'checkout_monthday':'',\n",
    "            'checkout_year':'',\n",
    "            'group_adults':2,\n",
    "            'group_children':0,\n",
    "            'dest_type': 'city',\n",
    "            'ss': city\n",
    "            }\n",
    "            queryString = urlencode(parametri) #libreria urlLib per formattare la url\n",
    "            url=\"https://www.booking.com/searchresults.html?%s\" % queryString\n",
    "            driver = preparaDriver(url)\n",
    "            stringaCitta=city #variabile da assegnare alla lista dei campi_alloggi\n",
    "            xpathStruttura = driver.find_element_by_xpath('//*[@id=\"right\"]/div[5]/div/div[1]/div/h1').text  #percorso del titolo che varia a seconda delle citta\n",
    "            numstruttureTrovate=(re.findall('[\\d]+',xpathStruttura)[0]) #prende il primo numero in lista relativo alle strutture\n",
    "            infoCitta = scrape_dati_alloggi(driver)\n",
    "            keys = infoAlloggio[0].keys()\n",
    "            with open('numeroStruttureDisponibili.csv', 'a', newline='') as csvFile: #appende ai dati precedenti \n",
    "                dict_writer = csv.DictWriter(csvFile, 1) # imposto i nomi dei campi\n",
    "                dict_writer.writeheader(keys)\n",
    "                dict_writer.writerows(infoCitta)\n",
    "                driver.close()\n",
    "    finally:\n",
    "        driver.quit()"
   ]
  },
  {
   "cell_type": "code",
   "execution_count": null,
   "metadata": {},
   "outputs": [],
   "source": []
  }
 ],
 "metadata": {
  "kernelspec": {
   "display_name": "Python 3",
   "language": "python",
   "name": "python3"
  },
  "language_info": {
   "codemirror_mode": {
    "name": "ipython",
    "version": 3
   },
   "file_extension": ".py",
   "mimetype": "text/x-python",
   "name": "python",
   "nbconvert_exporter": "python",
   "pygments_lexer": "ipython3",
   "version": "3.7.1"
  }
 },
 "nbformat": 4,
 "nbformat_minor": 2
}
